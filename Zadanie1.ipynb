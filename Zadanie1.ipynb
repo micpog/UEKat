{
 "cells": [
  {
   "cell_type": "code",
   "execution_count": null,
   "metadata": {},
   "outputs": [],
   "source": [
    "import pandas as pd\n",
    "import matplotlib.pyplot as plt\n",
    "\n",
    "url = \"https://archive.ics.uci.edu/ml/machine-learning-databases/mushroom/agaricus-lepiota.data\"\n",
    "file = pd.read_csv(url, header=None)\n",
    "file_df = pd.DataFrame(file)\n",
    "\n",
    "def compareValues(missing_value_row, complete_value_row):\n",
    "    comparityScore = 0\n",
    "    for mvr_char in missing_value_row:\n",
    "        for cvr_char in complete_value_row:\n",
    "            if mvr_char == cvr_char:\n",
    "                comparityScore += 1\n",
    "    return comparityScore\n",
    "\n",
    "def toggleValue(best_comparity_scorer, best_complete):\n",
    "    best_comparity_scorer[11] = best_complete[11]\n",
    "\n",
    "missing_value_rows = []\n",
    "complete_value_rows = []\n",
    "complete_row_candidate = True\n",
    "rowCount = len(file_df.axes[0])\n",
    "for i in range(0, rowCount):\n",
    "    row = file_df.loc[i]\n",
    "    complete_row_candidate = True\n",
    "    for char in row:\n",
    "        if char=='?':\n",
    "            missing_value_rows.append(row)\n",
    "            complete_row_candidate = False\n",
    "    if complete_row_candidate:\n",
    "        complete_value_rows.append(row)\n",
    "\n",
    "missing_value_rows_count = len(missing_value_rows)\n",
    "complete_value_rows_count = len(complete_value_rows)\n",
    "missing_value_rows_df = pd.DataFrame(missing_value_rows)\n",
    "complete_value_rows_df = pd.DataFrame(complete_value_rows)\n",
    "\n",
    "missing_value_rows_df = missing_value_rows_df.reset_index(drop=True)\n",
    "complete_value_rows_df = complete_value_rows_df.reset_index(drop=True)\n",
    "\n",
    "for x in range(0, missing_value_rows_count):\n",
    "    for y in range(0, complete_value_rows_count):\n",
    "        highestScore = 0\n",
    "        print(highestScore)\n",
    "        score = compareValues(missing_value_rows_df.loc[x], complete_value_rows_df.loc[y])\n",
    "        if score > highestScore:\n",
    "            highestScore = score"
   ]
  },
  {
   "cell_type": "code",
   "execution_count": null,
   "metadata": {},
   "outputs": [],
   "source": [
    "import pandas as pd\n",
    "import matplotlib.pyplot as plt\n",
    "\n",
    "url = \"https://archive.ics.uci.edu/ml/machine-learning-databases/mushroom/agaricus-lepiota.data\"\n",
    "file = pd.read_csv(url, header=None)\n",
    "file_df = pd.DataFrame(file)\n",
    "\n",
    "def compareValues(missing_value_row, complete_value_row):\n",
    "    comparityScore = 0\n",
    "    for mvr_char in missing_value_row:\n",
    "        for cvr_char in complete_value_row:\n",
    "            if mvr_char == cvr_char:\n",
    "                comparityScore += 1\n",
    "    return comparityScore\n",
    "\n",
    "def toggleValue(best_comparity_scorer, best_complete):\n",
    "    best_comparity_scorer[11] = best_complete[11]\n",
    "\n",
    "missing_value_rows = []\n",
    "complete_value_rows = []\n",
    "complete_row_candidate = True\n",
    "rowCount = len(file_df.axes[0])\n",
    "for i in range(0, rowCount):\n",
    "    row = file_df.loc[i]\n",
    "    complete_row_candidate = True\n",
    "    for char in row:\n",
    "        if char=='?':\n",
    "            missing_value_rows.append(row)\n",
    "            complete_row_candidate = False\n",
    "    if complete_row_candidate:\n",
    "        complete_value_rows.append(row)\n",
    "\n",
    "missing_value_rows_count = len(missing_value_rows)\n",
    "complete_value_rows_count = len(complete_value_rows)\n",
    "missing_value_rows_df = pd.DataFrame(missing_value_rows)\n",
    "complete_value_rows_df = pd.DataFrame(complete_value_rows)\n",
    "\n",
    "missing_value_rows_df = missing_value_rows_df.reset_index(drop=True)\n",
    "complete_value_rows_df = complete_value_rows_df.reset_index(drop=True)\n",
    "\n",
    "highestScore = 0\n",
    "for x in range(0, missing_value_rows_count):\n",
    "    for y in range(0, complete_value_rows_count):\n",
    "        score = compareValues(missing_value_rows_df.loc[x], complete_value_rows_df.loc[y])\n",
    "        if score > highestScore:\n",
    "            highestScore = score\n",
    "print(highestScore)"
   ]
  },
  {
   "cell_type": "code",
   "execution_count": null,
   "metadata": {},
   "outputs": [],
   "source": [
    "\n"
   ]
  },
  {
   "cell_type": "code",
   "execution_count": 12,
   "metadata": {},
   "outputs": [
    {
     "data": {
      "text/plain": [
       "'l'"
      ]
     },
     "execution_count": 12,
     "metadata": {},
     "output_type": "execute_result"
    }
   ],
   "source": [
    "char"
   ]
  },
  {
   "cell_type": "code",
   "execution_count": 16,
   "metadata": {},
   "outputs": [
    {
     "data": {
      "text/plain": [
       "8124"
      ]
     },
     "execution_count": 16,
     "metadata": {},
     "output_type": "execute_result"
    }
   ],
   "source": [
    "len(file_df)\n"
   ]
  },
  {
   "cell_type": "code",
   "execution_count": null,
   "metadata": {},
   "outputs": [],
   "source": []
  }
 ],
 "metadata": {
  "kernelspec": {
   "display_name": "Python 3",
   "language": "python",
   "name": "python3"
  },
  "language_info": {
   "codemirror_mode": {
    "name": "ipython",
    "version": 3
   },
   "file_extension": ".py",
   "mimetype": "text/x-python",
   "name": "python",
   "nbconvert_exporter": "python",
   "pygments_lexer": "ipython3",
   "version": "3.6.6"
  }
 },
 "nbformat": 4,
 "nbformat_minor": 2
}
