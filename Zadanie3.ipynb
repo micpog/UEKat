{
 "cells": [
  {
   "cell_type": "code",
   "execution_count": 8,
   "metadata": {},
   "outputs": [
    {
     "name": "stdout",
     "output_type": "stream",
     "text": [
      "0.011758009356330756\n"
     ]
    }
   ],
   "source": [
    "import pandas as pd\n",
    "\n",
    "url = \"https://archive.ics.uci.edu/ml/machine-learning-databases/abalone/abalone.data\"\n",
    "file = pd.read_csv(url, header=None)\n",
    "file_df = pd.DataFrame(file)\n",
    "\n",
    "products_2_3_attributes = []\n",
    "for i in range(0, len(file_df)):\n",
    "    products_2_3_attributes.append(file_df.loc[i][1]*file_df.loc[i][2])\n",
    "\n",
    "average_2_attribute = file_df[1].mean()\n",
    "average_3_attribute = file_df[2].mean()\n",
    "products_2_3_attributes = pd.DataFrame(products_2_3_attributes)\n",
    "average_products_2_3_attributes = products_2_3_attributes[0].mean()\n",
    "\n",
    "wanted_value_product = average_2_attribute * average_3_attribute\n",
    "covariance_2_3_attributes = average_products_2_3_attributes - wanted_value_product\n",
    "print(covariance_2_3_attributes)\n",
    "\n",
    "\n"
   ]
  },
  {
   "cell_type": "code",
   "execution_count": null,
   "metadata": {},
   "outputs": [],
   "source": []
  },
  {
   "cell_type": "code",
   "execution_count": null,
   "metadata": {},
   "outputs": [],
   "source": []
  }
 ],
 "metadata": {
  "kernelspec": {
   "display_name": "Python 3",
   "language": "python",
   "name": "python3"
  },
  "language_info": {
   "codemirror_mode": {
    "name": "ipython",
    "version": 3
   },
   "file_extension": ".py",
   "mimetype": "text/x-python",
   "name": "python",
   "nbconvert_exporter": "python",
   "pygments_lexer": "ipython3",
   "version": "3.6.6"
  }
 },
 "nbformat": 4,
 "nbformat_minor": 2
}
