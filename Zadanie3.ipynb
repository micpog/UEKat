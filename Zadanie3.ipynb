{
 "cells": [
  {
   "cell_type": "code",
   "execution_count": 2,
   "metadata": {},
   "outputs": [
    {
     "name": "stdout",
     "output_type": "stream",
     "text": [
      "0.9868115846024006\n",
      "0.9319613217425723\n"
     ]
    }
   ],
   "source": [
    "import pandas as pd\n",
    "\n",
    "url = \"https://archive.ics.uci.edu/ml/machine-learning-databases/abalone/abalone.data\"\n",
    "file = pd.read_csv(url, header=None)\n",
    "file_df = pd.DataFrame(file)\n",
    "\n",
    "def calculatePearsonCorrelationCoefficient(first_variable_column, second_variable_column):\n",
    "    products_first_variable_second_variable_attributes = []\n",
    "    for i in range(0, len(file_df)):\n",
    "        products_first_variable_second_variable_attributes.append(file_df.loc[i][first_variable_column]*file_df.loc[i][second_variable_column])\n",
    "\n",
    "    average_first_variable_attribute = file_df[first_variable_column].mean()\n",
    "    average_second_variable_attribute = file_df[second_variable_column].mean()\n",
    "    products_first_variable_second_variable_attributes = pd.DataFrame(products_first_variable_second_variable_attributes)\n",
    "    average_products_first_variable_second_variable_attributes = products_first_variable_second_variable_attributes[0].mean()\n",
    "\n",
    "    wanted_value_product = average_first_variable_attribute * average_second_variable_attribute\n",
    "    covariance_first_variable_second_variable_attributes = average_products_first_variable_second_variable_attributes - wanted_value_product\n",
    "\n",
    "    standard_devation_first_variable = file_df[first_variable_column].std(ddof=0)\n",
    "    standard_devation_second_variable = file_df[second_variable_column].std(ddof=0)\n",
    "    product_standard_devations_first_variable_second_variable = standard_devation_first_variable * standard_devation_second_variable\n",
    "    pearson_correlation_coefficient_first_variable_second_variable = covariance_first_variable_second_variable_attributes / product_standard_devations_first_variable_second_variable\n",
    "    print(pearson_correlation_coefficient_first_variable_second_variable)\n",
    "    \n",
    "calculatePearsonCorrelationCoefficient(1,2)\n",
    "calculatePearsonCorrelationCoefficient(5,6)\n"
   ]
  },
  {
   "cell_type": "code",
   "execution_count": null,
   "metadata": {},
   "outputs": [],
   "source": []
  }
 ],
 "metadata": {
  "kernelspec": {
   "display_name": "Python 3",
   "language": "python",
   "name": "python3"
  },
  "language_info": {
   "codemirror_mode": {
    "name": "ipython",
    "version": 3
   },
   "file_extension": ".py",
   "mimetype": "text/x-python",
   "name": "python",
   "nbconvert_exporter": "python",
   "pygments_lexer": "ipython3",
   "version": "3.6.6"
  }
 },
 "nbformat": 4,
 "nbformat_minor": 2
}
